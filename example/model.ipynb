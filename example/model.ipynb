{
 "cells": [
  {
   "cell_type": "markdown",
   "metadata": {},
   "source": [
    "# # User Model Definition"
   ]
  },
  {
   "cell_type": "code",
   "execution_count": 4,
   "metadata": {},
   "outputs": [],
   "source": [
    "# The `NubisonModel` class serves as a base class for creating custom user model classes.\n",
    "# Note that modules required by UserModel must be imported within the NubisonModel class.\n",
    "# This is because the UserModel is cloudpickled, and using modules imported outside of the NubisonModel class will cause errors.\n",
    "from nubison_model import NubisonModel, ModelContext\n",
    "\n",
    "class UserModel(NubisonModel):\n",
    "    \"\"\"A user model that extends the NubisonModel base class.\"\"\"\n",
    "    \n",
    "    def load_model(self, context: ModelContext) -> None:\n",
    "        \"\"\"Load the model weights from the file.\n",
    "        \n",
    "        Args:\n",
    "            context: Contains worker_index (0-based) for GPU initialization in parallel setups.\n",
    "        \"\"\"\n",
    "        try:\n",
    "            # Import the SimpleLinearModel class from the src directory\n",
    "            # This class implements a basic linear model for text processing\n",
    "            # Using absolute import path to ensure reliable imports across different execution contexts\n",
    "            from src.SimpleLinearModel import SimpleLinearModel\n",
    "            self.model = SimpleLinearModel(\"./src/weights.txt\")\n",
    "        except Exception as e:\n",
    "            print(f\"Error: {e}\")\n",
    "\n",
    "    def infer(self, x1: float, x2: float):\n",
    "        \"\"\"\n",
    "        This method is used to return the inference result.\n",
    "        \"\"\"\n",
    "        return {\"y\": self.model.calc(x1, x2)}"
   ]
  },
  {
   "cell_type": "markdown",
   "metadata": {},
   "source": [
    "# # Model Register"
   ]
  },
  {
   "cell_type": "code",
   "execution_count": 5,
   "metadata": {},
   "outputs": [
    {
     "name": "stderr",
     "output_type": "stream",
     "text": [
      "2025/01/16 10:42:11 WARNING mlflow.utils.requirements_utils: Detected one or more mismatches between the model's dependencies and the current Python environment:\n",
      " - nubison-model (current: 0.0.6.dev0+8f73ebb.20250102231447, required: nubison-model==0.0.5)\n",
      "To fix the mismatches, call `mlflow.pyfunc.get_model_dependencies(model_uri)` to fetch the model's environment and install dependencies using the resulting environment file.\n",
      "2025/01/16 10:42:11 WARNING mlflow.models.model: Model logged without a signature and input example. Please set `input_example` parameter when logging the model to auto infer the model signature.\n",
      "Registered model 'Default' already exists. Creating a new version of this model...\n",
      "2025/01/16 10:42:11 INFO mlflow.store.model_registry.abstract_store: Waiting up to 300 seconds for model version to finish creation. Model name: Default, version 8\n",
      "Created version '8' of model 'Default'.\n",
      "2025/01/16 10:42:11 INFO mlflow.tracking._tracking_service.client: 🏃 View run bouncy-hog-433 at: http://127.0.0.1:5000/#/experiments/0/runs/002d6d675fbe4607b20316b5ce023128.\n",
      "2025/01/16 10:42:11 INFO mlflow.tracking._tracking_service.client: 🧪 View experiment at: http://127.0.0.1:5000/#/experiments/0.\n"
     ]
    },
    {
     "name": "stdout",
     "output_type": "stream",
     "text": [
      "Model registered: runs:/002d6d675fbe4607b20316b5ce023128/\n"
     ]
    }
   ],
   "source": [
    "# The `register` function is utilized to register the user-defined model with the system,\n",
    "from nubison_model import register\n",
    "\n",
    "# Register the user model\n",
    "# The `artifact_dirs` argument specifies the folders containing the files used by the model class.\n",
    "model_id = register(\n",
    "    UserModel(),\n",
    "    artifact_dirs=\"src\",\n",
    "    params={\"desc\": \"This is a test model\"},\n",
    "    metrics={\"train\": 0.9, \"validation\": 0.8, \"test\": 0.7},\n",
    "    tags={\"inference_server_image\": \"ghcr.io/nubison/nubison-model:0.0.5\"}\n",
    "    )\n",
    "print(f\"Model registered: {model_id}\")\n"
   ]
  },
  {
   "cell_type": "markdown",
   "metadata": {},
   "source": [
    "# # Model Testing"
   ]
  },
  {
   "cell_type": "code",
   "execution_count": 6,
   "metadata": {},
   "outputs": [
    {
     "name": "stderr",
     "output_type": "stream",
     "text": [
      "2025/01/16 10:42:12 WARNING mlflow.utils.requirements_utils: Detected one or more mismatches between the model's dependencies and the current Python environment:\n",
      " - nubison-model (current: 0.0.6.dev0+8f73ebb.20250102231447, required: nubison-model==0.0.5)\n",
      "To fix the mismatches, call `mlflow.pyfunc.get_model_dependencies(model_uri)` to fetch the model's environment and install dependencies using the resulting environment file.\n",
      "2025-01-16 10:42:12,123 - SimpleLinearModel - INFO - Weights loaded successfully from ./src/weights.txt.\n",
      "INFO:SimpleLinearModel:Weights loaded successfully from ./src/weights.txt.\n",
      "2025-01-16 10:42:12,127 - SimpleLinearModel - INFO - Calculating the result of the linear model with x1=3.1, x2=2.0.\n",
      "INFO:SimpleLinearModel:Calculating the result of the linear model with x1=3.1, x2=2.0.\n"
     ]
    },
    {
     "name": "stdout",
     "output_type": "stream",
     "text": [
      "Prepared artifact: src -> /tmp/tmp89pftd1h/artifacts/src\n",
      "The result of the linear model is 4.35.\n"
     ]
    }
   ],
   "source": [
    "# The `test_client` function is used to test the model.\n",
    "from nubison_model.Service import test_client\n",
    "\n",
    "# Create a test client for the model.\n",
    "with test_client(model_id) as client:\n",
    "    # The request should include the parameters defined in the `infer` method.\n",
    "    result = client.post(\"/infer\", json={\"x1\": 3.1, \"x2\": 2})\n",
    "    print(f\"The result of the linear model is {result.json()['y']}.\")\n",
    "\n"
   ]
  },
  {
   "cell_type": "code",
   "execution_count": null,
   "metadata": {},
   "outputs": [],
   "source": []
  }
 ],
 "metadata": {
  "kernelspec": {
   "display_name": "testmodel",
   "language": "python",
   "name": "python3"
  },
  "language_info": {
   "codemirror_mode": {
    "name": "ipython",
    "version": 3
   },
   "file_extension": ".py",
   "mimetype": "text/x-python",
   "name": "python",
   "nbconvert_exporter": "python",
   "pygments_lexer": "ipython3",
   "version": "3.9.20"
  }
 },
 "nbformat": 4,
 "nbformat_minor": 2
}
